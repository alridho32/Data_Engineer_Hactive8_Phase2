{
  "nbformat": 4,
  "nbformat_minor": 0,
  "metadata": {
    "colab": {
      "provenance": [],
      "gpuType": "T4"
    },
    "kernelspec": {
      "name": "python3",
      "display_name": "Python 3"
    },
    "language_info": {
      "name": "python"
    },
    "accelerator": "GPU"
  },
  "cells": [
    {
      "cell_type": "markdown",
      "source": [
        "# Phase 2 - Week 1 - Day 1 PM - Artificial Neural Network (ANN) - Binary Classification"
      ],
      "metadata": {
        "id": "xsYKL7lWmfXr"
      }
    },
    {
      "cell_type": "markdown",
      "source": [
        "> **NOTES**\n",
        "\n",
        "> Before you run the notebook below, **it is recommended to run the program using the GPU** so that the training process doesn't take too long.\n",
        "> If you use Google Colab, then you can set it by following the steps: `Runtime` >> `Change runtime type` >> `T4 GPU`."
      ],
      "metadata": {
        "id": "NA2_JwHtnBLD"
      }
    },
    {
      "cell_type": "markdown",
      "source": [
        "# A. Binary Classification"
      ],
      "metadata": {
        "id": "xnNZkBcBlgfo"
      }
    },
    {
      "cell_type": "markdown",
      "source": [
        "## A.1 - Import Libraries & Data Loading"
      ],
      "metadata": {
        "id": "T5ov8qr_m2sn"
      }
    },
    {
      "cell_type": "markdown",
      "source": [
        "In the first tutorial, we will implement Binary Classification using Titanic dataset to build neural network models.\n",
        "\n",
        "The purpose of this notebook is to demonstrate the creation of an ANN model in a general sense, so some details such as EDA, handling outliers, checking types of missing values, etc., are omitted.\n",
        "\n",
        "In reality, you should consider these aspects for the project you are working on so that your ANN model is an optimal model."
      ],
      "metadata": {
        "id": "h9F_T6NBm_8y"
      }
    },
    {
      "cell_type": "code",
      "source": [
        "# Downgrade version of TensorFlow and tf-keras\n",
        "\n",
        "!pip install -q --upgrade \"tensorflow<2.16\" \"tf-keras<2.16\""
      ],
      "metadata": {
        "colab": {
          "base_uri": "https://localhost:8080/"
        },
        "id": "5LN8urrGnG6v",
        "outputId": "89f3be86-8604-44a4-e10f-6235355e6ba0"
      },
      "execution_count": null,
      "outputs": [
        {
          "output_type": "stream",
          "name": "stdout",
          "text": [
            "\u001b[2K   \u001b[90m━━━━━━━━━━━━━━━━━━━━━━━━━━━━━━━━━━━━━━━━\u001b[0m \u001b[32m475.2/475.2 MB\u001b[0m \u001b[31m2.7 MB/s\u001b[0m eta \u001b[36m0:00:00\u001b[0m\n",
            "\u001b[2K   \u001b[90m━━━━━━━━━━━━━━━━━━━━━━━━━━━━━━━━━━━━━━━━\u001b[0m \u001b[32m1.7/1.7 MB\u001b[0m \u001b[31m52.4 MB/s\u001b[0m eta \u001b[36m0:00:00\u001b[0m\n",
            "\u001b[2K   \u001b[90m━━━━━━━━━━━━━━━━━━━━━━━━━━━━━━━━━━━━━━━━\u001b[0m \u001b[32m1.7/1.7 MB\u001b[0m \u001b[31m57.3 MB/s\u001b[0m eta \u001b[36m0:00:00\u001b[0m\n",
            "\u001b[2K   \u001b[90m━━━━━━━━━━━━━━━━━━━━━━━━━━━━━━━━━━━━━━━━\u001b[0m \u001b[32m2.2/2.2 MB\u001b[0m \u001b[31m59.2 MB/s\u001b[0m eta \u001b[36m0:00:00\u001b[0m\n",
            "\u001b[2K   \u001b[90m━━━━━━━━━━━━━━━━━━━━━━━━━━━━━━━━━━━━━━━━\u001b[0m \u001b[32m5.5/5.5 MB\u001b[0m \u001b[31m35.9 MB/s\u001b[0m eta \u001b[36m0:00:00\u001b[0m\n",
            "\u001b[2K   \u001b[90m━━━━━━━━━━━━━━━━━━━━━━━━━━━━━━━━━━━━━━━━\u001b[0m \u001b[32m442.0/442.0 kB\u001b[0m \u001b[31m22.9 MB/s\u001b[0m eta \u001b[36m0:00:00\u001b[0m\n",
            "\u001b[2K   \u001b[90m━━━━━━━━━━━━━━━━━━━━━━━━━━━━━━━━━━━━━━━━\u001b[0m \u001b[32m77.9/77.9 kB\u001b[0m \u001b[31m6.6 MB/s\u001b[0m eta \u001b[36m0:00:00\u001b[0m\n",
            "\u001b[?25h"
          ]
        }
      ]
    },
    {
      "cell_type": "code",
      "execution_count": null,
      "metadata": {
        "id": "J6jA7U8BPm3P"
      },
      "outputs": [],
      "source": [
        "# Import Libraries\n",
        "\n",
        "import numpy as np\n",
        "import pandas as pd\n",
        "import seaborn as sns\n",
        "import matplotlib.pyplot as plt\n",
        "\n",
        "from sklearn.model_selection import train_test_split\n",
        "from sklearn.pipeline import make_pipeline\n",
        "from sklearn.compose import ColumnTransformer\n",
        "from sklearn.impute import SimpleImputer\n",
        "from sklearn.preprocessing import StandardScaler, OneHotEncoder\n",
        "from sklearn.metrics import classification_report"
      ]
    },
    {
      "cell_type": "code",
      "source": [
        "# Load the Titanic dataset\n",
        "\n",
        "url = 'https://raw.githubusercontent.com/FTDS-learning-materials/phase-1/master/w1/P1W1D3AM%20-%20Feature%20Engineering%20-%20Part%201%20-%20Titanic.csv'\n",
        "data = pd.read_csv(url)\n",
        "data.head()"
      ],
      "metadata": {
        "colab": {
          "base_uri": "https://localhost:8080/",
          "height": 206
        },
        "id": "6GQOP4YTncZb",
        "outputId": "7da1c932-d9d9-4b04-c80a-b8b31324abc8"
      },
      "execution_count": null,
      "outputs": [
        {
          "output_type": "execute_result",
          "data": {
            "text/plain": [
              "   PassengerId  Survived  Pclass  \\\n",
              "0            1         0       3   \n",
              "1            2         1       1   \n",
              "2            3         1       3   \n",
              "3            4         1       1   \n",
              "4            5         0       3   \n",
              "\n",
              "                                                Name     Sex   Age  SibSp  \\\n",
              "0                            Braund, Mr. Owen Harris    male  22.0      1   \n",
              "1  Cumings, Mrs. John Bradley (Florence Briggs Th...  female  38.0      1   \n",
              "2                             Heikkinen, Miss. Laina  female  26.0      0   \n",
              "3       Futrelle, Mrs. Jacques Heath (Lily May Peel)  female  35.0      1   \n",
              "4                           Allen, Mr. William Henry    male  35.0      0   \n",
              "\n",
              "   Parch            Ticket     Fare Cabin Embarked  \n",
              "0      0         A/5 21171   7.2500   NaN        S  \n",
              "1      0          PC 17599  71.2833   C85        C  \n",
              "2      0  STON/O2. 3101282   7.9250   NaN        S  \n",
              "3      0            113803  53.1000  C123        S  \n",
              "4      0            373450   8.0500   NaN        S  "
            ],
            "text/html": [
              "\n",
              "  <div id=\"df-d188be38-c490-459f-9eec-544bdc8b0697\" class=\"colab-df-container\">\n",
              "    <div>\n",
              "<style scoped>\n",
              "    .dataframe tbody tr th:only-of-type {\n",
              "        vertical-align: middle;\n",
              "    }\n",
              "\n",
              "    .dataframe tbody tr th {\n",
              "        vertical-align: top;\n",
              "    }\n",
              "\n",
              "    .dataframe thead th {\n",
              "        text-align: right;\n",
              "    }\n",
              "</style>\n",
              "<table border=\"1\" class=\"dataframe\">\n",
              "  <thead>\n",
              "    <tr style=\"text-align: right;\">\n",
              "      <th></th>\n",
              "      <th>PassengerId</th>\n",
              "      <th>Survived</th>\n",
              "      <th>Pclass</th>\n",
              "      <th>Name</th>\n",
              "      <th>Sex</th>\n",
              "      <th>Age</th>\n",
              "      <th>SibSp</th>\n",
              "      <th>Parch</th>\n",
              "      <th>Ticket</th>\n",
              "      <th>Fare</th>\n",
              "      <th>Cabin</th>\n",
              "      <th>Embarked</th>\n",
              "    </tr>\n",
              "  </thead>\n",
              "  <tbody>\n",
              "    <tr>\n",
              "      <th>0</th>\n",
              "      <td>1</td>\n",
              "      <td>0</td>\n",
              "      <td>3</td>\n",
              "      <td>Braund, Mr. Owen Harris</td>\n",
              "      <td>male</td>\n",
              "      <td>22.0</td>\n",
              "      <td>1</td>\n",
              "      <td>0</td>\n",
              "      <td>A/5 21171</td>\n",
              "      <td>7.2500</td>\n",
              "      <td>NaN</td>\n",
              "      <td>S</td>\n",
              "    </tr>\n",
              "    <tr>\n",
              "      <th>1</th>\n",
              "      <td>2</td>\n",
              "      <td>1</td>\n",
              "      <td>1</td>\n",
              "      <td>Cumings, Mrs. John Bradley (Florence Briggs Th...</td>\n",
              "      <td>female</td>\n",
              "      <td>38.0</td>\n",
              "      <td>1</td>\n",
              "      <td>0</td>\n",
              "      <td>PC 17599</td>\n",
              "      <td>71.2833</td>\n",
              "      <td>C85</td>\n",
              "      <td>C</td>\n",
              "    </tr>\n",
              "    <tr>\n",
              "      <th>2</th>\n",
              "      <td>3</td>\n",
              "      <td>1</td>\n",
              "      <td>3</td>\n",
              "      <td>Heikkinen, Miss. Laina</td>\n",
              "      <td>female</td>\n",
              "      <td>26.0</td>\n",
              "      <td>0</td>\n",
              "      <td>0</td>\n",
              "      <td>STON/O2. 3101282</td>\n",
              "      <td>7.9250</td>\n",
              "      <td>NaN</td>\n",
              "      <td>S</td>\n",
              "    </tr>\n",
              "    <tr>\n",
              "      <th>3</th>\n",
              "      <td>4</td>\n",
              "      <td>1</td>\n",
              "      <td>1</td>\n",
              "      <td>Futrelle, Mrs. Jacques Heath (Lily May Peel)</td>\n",
              "      <td>female</td>\n",
              "      <td>35.0</td>\n",
              "      <td>1</td>\n",
              "      <td>0</td>\n",
              "      <td>113803</td>\n",
              "      <td>53.1000</td>\n",
              "      <td>C123</td>\n",
              "      <td>S</td>\n",
              "    </tr>\n",
              "    <tr>\n",
              "      <th>4</th>\n",
              "      <td>5</td>\n",
              "      <td>0</td>\n",
              "      <td>3</td>\n",
              "      <td>Allen, Mr. William Henry</td>\n",
              "      <td>male</td>\n",
              "      <td>35.0</td>\n",
              "      <td>0</td>\n",
              "      <td>0</td>\n",
              "      <td>373450</td>\n",
              "      <td>8.0500</td>\n",
              "      <td>NaN</td>\n",
              "      <td>S</td>\n",
              "    </tr>\n",
              "  </tbody>\n",
              "</table>\n",
              "</div>\n",
              "    <div class=\"colab-df-buttons\">\n",
              "\n",
              "  <div class=\"colab-df-container\">\n",
              "    <button class=\"colab-df-convert\" onclick=\"convertToInteractive('df-d188be38-c490-459f-9eec-544bdc8b0697')\"\n",
              "            title=\"Convert this dataframe to an interactive table.\"\n",
              "            style=\"display:none;\">\n",
              "\n",
              "  <svg xmlns=\"http://www.w3.org/2000/svg\" height=\"24px\" viewBox=\"0 -960 960 960\">\n",
              "    <path d=\"M120-120v-720h720v720H120Zm60-500h600v-160H180v160Zm220 220h160v-160H400v160Zm0 220h160v-160H400v160ZM180-400h160v-160H180v160Zm440 0h160v-160H620v160ZM180-180h160v-160H180v160Zm440 0h160v-160H620v160Z\"/>\n",
              "  </svg>\n",
              "    </button>\n",
              "\n",
              "  <style>\n",
              "    .colab-df-container {\n",
              "      display:flex;\n",
              "      gap: 12px;\n",
              "    }\n",
              "\n",
              "    .colab-df-convert {\n",
              "      background-color: #E8F0FE;\n",
              "      border: none;\n",
              "      border-radius: 50%;\n",
              "      cursor: pointer;\n",
              "      display: none;\n",
              "      fill: #1967D2;\n",
              "      height: 32px;\n",
              "      padding: 0 0 0 0;\n",
              "      width: 32px;\n",
              "    }\n",
              "\n",
              "    .colab-df-convert:hover {\n",
              "      background-color: #E2EBFA;\n",
              "      box-shadow: 0px 1px 2px rgba(60, 64, 67, 0.3), 0px 1px 3px 1px rgba(60, 64, 67, 0.15);\n",
              "      fill: #174EA6;\n",
              "    }\n",
              "\n",
              "    .colab-df-buttons div {\n",
              "      margin-bottom: 4px;\n",
              "    }\n",
              "\n",
              "    [theme=dark] .colab-df-convert {\n",
              "      background-color: #3B4455;\n",
              "      fill: #D2E3FC;\n",
              "    }\n",
              "\n",
              "    [theme=dark] .colab-df-convert:hover {\n",
              "      background-color: #434B5C;\n",
              "      box-shadow: 0px 1px 3px 1px rgba(0, 0, 0, 0.15);\n",
              "      filter: drop-shadow(0px 1px 2px rgba(0, 0, 0, 0.3));\n",
              "      fill: #FFFFFF;\n",
              "    }\n",
              "  </style>\n",
              "\n",
              "    <script>\n",
              "      const buttonEl =\n",
              "        document.querySelector('#df-d188be38-c490-459f-9eec-544bdc8b0697 button.colab-df-convert');\n",
              "      buttonEl.style.display =\n",
              "        google.colab.kernel.accessAllowed ? 'block' : 'none';\n",
              "\n",
              "      async function convertToInteractive(key) {\n",
              "        const element = document.querySelector('#df-d188be38-c490-459f-9eec-544bdc8b0697');\n",
              "        const dataTable =\n",
              "          await google.colab.kernel.invokeFunction('convertToInteractive',\n",
              "                                                    [key], {});\n",
              "        if (!dataTable) return;\n",
              "\n",
              "        const docLinkHtml = 'Like what you see? Visit the ' +\n",
              "          '<a target=\"_blank\" href=https://colab.research.google.com/notebooks/data_table.ipynb>data table notebook</a>'\n",
              "          + ' to learn more about interactive tables.';\n",
              "        element.innerHTML = '';\n",
              "        dataTable['output_type'] = 'display_data';\n",
              "        await google.colab.output.renderOutput(dataTable, element);\n",
              "        const docLink = document.createElement('div');\n",
              "        docLink.innerHTML = docLinkHtml;\n",
              "        element.appendChild(docLink);\n",
              "      }\n",
              "    </script>\n",
              "  </div>\n",
              "\n",
              "\n",
              "<div id=\"df-894039f8-f915-459c-8dd5-b48511692ef7\">\n",
              "  <button class=\"colab-df-quickchart\" onclick=\"quickchart('df-894039f8-f915-459c-8dd5-b48511692ef7')\"\n",
              "            title=\"Suggest charts\"\n",
              "            style=\"display:none;\">\n",
              "\n",
              "<svg xmlns=\"http://www.w3.org/2000/svg\" height=\"24px\"viewBox=\"0 0 24 24\"\n",
              "     width=\"24px\">\n",
              "    <g>\n",
              "        <path d=\"M19 3H5c-1.1 0-2 .9-2 2v14c0 1.1.9 2 2 2h14c1.1 0 2-.9 2-2V5c0-1.1-.9-2-2-2zM9 17H7v-7h2v7zm4 0h-2V7h2v10zm4 0h-2v-4h2v4z\"/>\n",
              "    </g>\n",
              "</svg>\n",
              "  </button>\n",
              "\n",
              "<style>\n",
              "  .colab-df-quickchart {\n",
              "      --bg-color: #E8F0FE;\n",
              "      --fill-color: #1967D2;\n",
              "      --hover-bg-color: #E2EBFA;\n",
              "      --hover-fill-color: #174EA6;\n",
              "      --disabled-fill-color: #AAA;\n",
              "      --disabled-bg-color: #DDD;\n",
              "  }\n",
              "\n",
              "  [theme=dark] .colab-df-quickchart {\n",
              "      --bg-color: #3B4455;\n",
              "      --fill-color: #D2E3FC;\n",
              "      --hover-bg-color: #434B5C;\n",
              "      --hover-fill-color: #FFFFFF;\n",
              "      --disabled-bg-color: #3B4455;\n",
              "      --disabled-fill-color: #666;\n",
              "  }\n",
              "\n",
              "  .colab-df-quickchart {\n",
              "    background-color: var(--bg-color);\n",
              "    border: none;\n",
              "    border-radius: 50%;\n",
              "    cursor: pointer;\n",
              "    display: none;\n",
              "    fill: var(--fill-color);\n",
              "    height: 32px;\n",
              "    padding: 0;\n",
              "    width: 32px;\n",
              "  }\n",
              "\n",
              "  .colab-df-quickchart:hover {\n",
              "    background-color: var(--hover-bg-color);\n",
              "    box-shadow: 0 1px 2px rgba(60, 64, 67, 0.3), 0 1px 3px 1px rgba(60, 64, 67, 0.15);\n",
              "    fill: var(--button-hover-fill-color);\n",
              "  }\n",
              "\n",
              "  .colab-df-quickchart-complete:disabled,\n",
              "  .colab-df-quickchart-complete:disabled:hover {\n",
              "    background-color: var(--disabled-bg-color);\n",
              "    fill: var(--disabled-fill-color);\n",
              "    box-shadow: none;\n",
              "  }\n",
              "\n",
              "  .colab-df-spinner {\n",
              "    border: 2px solid var(--fill-color);\n",
              "    border-color: transparent;\n",
              "    border-bottom-color: var(--fill-color);\n",
              "    animation:\n",
              "      spin 1s steps(1) infinite;\n",
              "  }\n",
              "\n",
              "  @keyframes spin {\n",
              "    0% {\n",
              "      border-color: transparent;\n",
              "      border-bottom-color: var(--fill-color);\n",
              "      border-left-color: var(--fill-color);\n",
              "    }\n",
              "    20% {\n",
              "      border-color: transparent;\n",
              "      border-left-color: var(--fill-color);\n",
              "      border-top-color: var(--fill-color);\n",
              "    }\n",
              "    30% {\n",
              "      border-color: transparent;\n",
              "      border-left-color: var(--fill-color);\n",
              "      border-top-color: var(--fill-color);\n",
              "      border-right-color: var(--fill-color);\n",
              "    }\n",
              "    40% {\n",
              "      border-color: transparent;\n",
              "      border-right-color: var(--fill-color);\n",
              "      border-top-color: var(--fill-color);\n",
              "    }\n",
              "    60% {\n",
              "      border-color: transparent;\n",
              "      border-right-color: var(--fill-color);\n",
              "    }\n",
              "    80% {\n",
              "      border-color: transparent;\n",
              "      border-right-color: var(--fill-color);\n",
              "      border-bottom-color: var(--fill-color);\n",
              "    }\n",
              "    90% {\n",
              "      border-color: transparent;\n",
              "      border-bottom-color: var(--fill-color);\n",
              "    }\n",
              "  }\n",
              "</style>\n",
              "\n",
              "  <script>\n",
              "    async function quickchart(key) {\n",
              "      const quickchartButtonEl =\n",
              "        document.querySelector('#' + key + ' button');\n",
              "      quickchartButtonEl.disabled = true;  // To prevent multiple clicks.\n",
              "      quickchartButtonEl.classList.add('colab-df-spinner');\n",
              "      try {\n",
              "        const charts = await google.colab.kernel.invokeFunction(\n",
              "            'suggestCharts', [key], {});\n",
              "      } catch (error) {\n",
              "        console.error('Error during call to suggestCharts:', error);\n",
              "      }\n",
              "      quickchartButtonEl.classList.remove('colab-df-spinner');\n",
              "      quickchartButtonEl.classList.add('colab-df-quickchart-complete');\n",
              "    }\n",
              "    (() => {\n",
              "      let quickchartButtonEl =\n",
              "        document.querySelector('#df-894039f8-f915-459c-8dd5-b48511692ef7 button');\n",
              "      quickchartButtonEl.style.display =\n",
              "        google.colab.kernel.accessAllowed ? 'block' : 'none';\n",
              "    })();\n",
              "  </script>\n",
              "</div>\n",
              "\n",
              "    </div>\n",
              "  </div>\n"
            ],
            "application/vnd.google.colaboratory.intrinsic+json": {
              "type": "dataframe",
              "variable_name": "data",
              "summary": "{\n  \"name\": \"data\",\n  \"rows\": 891,\n  \"fields\": [\n    {\n      \"column\": \"PassengerId\",\n      \"properties\": {\n        \"dtype\": \"number\",\n        \"std\": 257,\n        \"min\": 1,\n        \"max\": 891,\n        \"num_unique_values\": 891,\n        \"samples\": [\n          710,\n          440,\n          841\n        ],\n        \"semantic_type\": \"\",\n        \"description\": \"\"\n      }\n    },\n    {\n      \"column\": \"Survived\",\n      \"properties\": {\n        \"dtype\": \"number\",\n        \"std\": 0,\n        \"min\": 0,\n        \"max\": 1,\n        \"num_unique_values\": 2,\n        \"samples\": [\n          1,\n          0\n        ],\n        \"semantic_type\": \"\",\n        \"description\": \"\"\n      }\n    },\n    {\n      \"column\": \"Pclass\",\n      \"properties\": {\n        \"dtype\": \"number\",\n        \"std\": 0,\n        \"min\": 1,\n        \"max\": 3,\n        \"num_unique_values\": 3,\n        \"samples\": [\n          3,\n          1\n        ],\n        \"semantic_type\": \"\",\n        \"description\": \"\"\n      }\n    },\n    {\n      \"column\": \"Name\",\n      \"properties\": {\n        \"dtype\": \"string\",\n        \"num_unique_values\": 891,\n        \"samples\": [\n          \"Moubarek, Master. Halim Gonios (\\\"William George\\\")\",\n          \"Kvillner, Mr. Johan Henrik Johannesson\"\n        ],\n        \"semantic_type\": \"\",\n        \"description\": \"\"\n      }\n    },\n    {\n      \"column\": \"Sex\",\n      \"properties\": {\n        \"dtype\": \"category\",\n        \"num_unique_values\": 2,\n        \"samples\": [\n          \"female\",\n          \"male\"\n        ],\n        \"semantic_type\": \"\",\n        \"description\": \"\"\n      }\n    },\n    {\n      \"column\": \"Age\",\n      \"properties\": {\n        \"dtype\": \"number\",\n        \"std\": 14.526497332334044,\n        \"min\": 0.42,\n        \"max\": 80.0,\n        \"num_unique_values\": 88,\n        \"samples\": [\n          0.75,\n          22.0\n        ],\n        \"semantic_type\": \"\",\n        \"description\": \"\"\n      }\n    },\n    {\n      \"column\": \"SibSp\",\n      \"properties\": {\n        \"dtype\": \"number\",\n        \"std\": 1,\n        \"min\": 0,\n        \"max\": 8,\n        \"num_unique_values\": 7,\n        \"samples\": [\n          1,\n          0\n        ],\n        \"semantic_type\": \"\",\n        \"description\": \"\"\n      }\n    },\n    {\n      \"column\": \"Parch\",\n      \"properties\": {\n        \"dtype\": \"number\",\n        \"std\": 0,\n        \"min\": 0,\n        \"max\": 6,\n        \"num_unique_values\": 7,\n        \"samples\": [\n          0,\n          1\n        ],\n        \"semantic_type\": \"\",\n        \"description\": \"\"\n      }\n    },\n    {\n      \"column\": \"Ticket\",\n      \"properties\": {\n        \"dtype\": \"string\",\n        \"num_unique_values\": 681,\n        \"samples\": [\n          \"11774\",\n          \"248740\"\n        ],\n        \"semantic_type\": \"\",\n        \"description\": \"\"\n      }\n    },\n    {\n      \"column\": \"Fare\",\n      \"properties\": {\n        \"dtype\": \"number\",\n        \"std\": 49.693428597180905,\n        \"min\": 0.0,\n        \"max\": 512.3292,\n        \"num_unique_values\": 248,\n        \"samples\": [\n          11.2417,\n          51.8625\n        ],\n        \"semantic_type\": \"\",\n        \"description\": \"\"\n      }\n    },\n    {\n      \"column\": \"Cabin\",\n      \"properties\": {\n        \"dtype\": \"category\",\n        \"num_unique_values\": 147,\n        \"samples\": [\n          \"D45\",\n          \"B49\"\n        ],\n        \"semantic_type\": \"\",\n        \"description\": \"\"\n      }\n    },\n    {\n      \"column\": \"Embarked\",\n      \"properties\": {\n        \"dtype\": \"category\",\n        \"num_unique_values\": 3,\n        \"samples\": [\n          \"S\",\n          \"C\"\n        ],\n        \"semantic_type\": \"\",\n        \"description\": \"\"\n      }\n    }\n  ]\n}"
            }
          },
          "metadata": {},
          "execution_count": 3
        }
      ]
    },
    {
      "cell_type": "markdown",
      "source": [
        "## A.2 - Feature Engineering"
      ],
      "metadata": {
        "id": "qkaeQN8Mnq-o"
      }
    },
    {
      "cell_type": "markdown",
      "source": [
        "### A.2.1 - Data Splitting"
      ],
      "metadata": {
        "id": "fK1vpzYinu0f"
      }
    },
    {
      "cell_type": "code",
      "source": [
        "# Splitting between `X` and `y`\n",
        "\n",
        "X = data.drop('Survived', axis=1)\n",
        "y = data['Survived']"
      ],
      "metadata": {
        "id": "ljD7hbEjn0Af"
      },
      "execution_count": null,
      "outputs": []
    },
    {
      "cell_type": "code",
      "source": [
        "# Splitting between Train-Set, Val-Set, and Test-Set\n",
        "\n",
        "X_train_val, X_test, y_train_val, y_test = train_test_split(X, y, test_size=0.15, random_state=42)\n",
        "X_train, X_val, y_train, y_val = train_test_split(X_train_val, y_train_val, test_size=0.15, random_state=42)\n",
        "\n",
        "print('Train Size : ', X_train.shape)\n",
        "print('Val Size   : ', X_val.shape)\n",
        "print('Test Size  : ', X_test.shape)"
      ],
      "metadata": {
        "colab": {
          "base_uri": "https://localhost:8080/"
        },
        "id": "y-R3NClgomt4",
        "outputId": "9ec8586f-ee9b-4ecf-aaf1-d0f254368f29"
      },
      "execution_count": null,
      "outputs": [
        {
          "output_type": "stream",
          "name": "stdout",
          "text": [
            "Train Size :  (643, 11)\n",
            "Val Size   :  (114, 11)\n",
            "Test Size  :  (134, 11)\n"
          ]
        }
      ]
    },
    {
      "cell_type": "markdown",
      "source": [
        "### A.2.2 - Handling Missing Values"
      ],
      "metadata": {
        "id": "WS5Gxi6BpgaN"
      }
    },
    {
      "cell_type": "code",
      "source": [
        "# Check Missing Values on X_train\n",
        "\n",
        "X_train.isnull().sum()"
      ],
      "metadata": {
        "colab": {
          "base_uri": "https://localhost:8080/",
          "height": 429
        },
        "id": "KtXBqv2jpjtO",
        "outputId": "c3e803be-90e0-43b2-b427-6f1236f24c55"
      },
      "execution_count": null,
      "outputs": [
        {
          "output_type": "execute_result",
          "data": {
            "text/plain": [
              "PassengerId      0\n",
              "Pclass           0\n",
              "Name             0\n",
              "Sex              0\n",
              "Age            131\n",
              "SibSp            0\n",
              "Parch            0\n",
              "Ticket           0\n",
              "Fare             0\n",
              "Cabin          497\n",
              "Embarked         2\n",
              "dtype: int64"
            ],
            "text/html": [
              "<div>\n",
              "<style scoped>\n",
              "    .dataframe tbody tr th:only-of-type {\n",
              "        vertical-align: middle;\n",
              "    }\n",
              "\n",
              "    .dataframe tbody tr th {\n",
              "        vertical-align: top;\n",
              "    }\n",
              "\n",
              "    .dataframe thead th {\n",
              "        text-align: right;\n",
              "    }\n",
              "</style>\n",
              "<table border=\"1\" class=\"dataframe\">\n",
              "  <thead>\n",
              "    <tr style=\"text-align: right;\">\n",
              "      <th></th>\n",
              "      <th>0</th>\n",
              "    </tr>\n",
              "  </thead>\n",
              "  <tbody>\n",
              "    <tr>\n",
              "      <th>PassengerId</th>\n",
              "      <td>0</td>\n",
              "    </tr>\n",
              "    <tr>\n",
              "      <th>Pclass</th>\n",
              "      <td>0</td>\n",
              "    </tr>\n",
              "    <tr>\n",
              "      <th>Name</th>\n",
              "      <td>0</td>\n",
              "    </tr>\n",
              "    <tr>\n",
              "      <th>Sex</th>\n",
              "      <td>0</td>\n",
              "    </tr>\n",
              "    <tr>\n",
              "      <th>Age</th>\n",
              "      <td>131</td>\n",
              "    </tr>\n",
              "    <tr>\n",
              "      <th>SibSp</th>\n",
              "      <td>0</td>\n",
              "    </tr>\n",
              "    <tr>\n",
              "      <th>Parch</th>\n",
              "      <td>0</td>\n",
              "    </tr>\n",
              "    <tr>\n",
              "      <th>Ticket</th>\n",
              "      <td>0</td>\n",
              "    </tr>\n",
              "    <tr>\n",
              "      <th>Fare</th>\n",
              "      <td>0</td>\n",
              "    </tr>\n",
              "    <tr>\n",
              "      <th>Cabin</th>\n",
              "      <td>497</td>\n",
              "    </tr>\n",
              "    <tr>\n",
              "      <th>Embarked</th>\n",
              "      <td>2</td>\n",
              "    </tr>\n",
              "  </tbody>\n",
              "</table>\n",
              "</div><br><label><b>dtype:</b> int64</label>"
            ]
          },
          "metadata": {},
          "execution_count": 6
        }
      ]
    },
    {
      "cell_type": "code",
      "source": [
        "# Check Missing Values on X_val\n",
        "\n",
        "X_val.isnull().sum()"
      ],
      "metadata": {
        "colab": {
          "base_uri": "https://localhost:8080/",
          "height": 429
        },
        "id": "aV1EGNDcpq9S",
        "outputId": "2bfd2ddb-ced7-44fb-dae5-2c17c4c9c5e0"
      },
      "execution_count": null,
      "outputs": [
        {
          "output_type": "execute_result",
          "data": {
            "text/plain": [
              "PassengerId     0\n",
              "Pclass          0\n",
              "Name            0\n",
              "Sex             0\n",
              "Age            22\n",
              "SibSp           0\n",
              "Parch           0\n",
              "Ticket          0\n",
              "Fare            0\n",
              "Cabin          94\n",
              "Embarked        0\n",
              "dtype: int64"
            ],
            "text/html": [
              "<div>\n",
              "<style scoped>\n",
              "    .dataframe tbody tr th:only-of-type {\n",
              "        vertical-align: middle;\n",
              "    }\n",
              "\n",
              "    .dataframe tbody tr th {\n",
              "        vertical-align: top;\n",
              "    }\n",
              "\n",
              "    .dataframe thead th {\n",
              "        text-align: right;\n",
              "    }\n",
              "</style>\n",
              "<table border=\"1\" class=\"dataframe\">\n",
              "  <thead>\n",
              "    <tr style=\"text-align: right;\">\n",
              "      <th></th>\n",
              "      <th>0</th>\n",
              "    </tr>\n",
              "  </thead>\n",
              "  <tbody>\n",
              "    <tr>\n",
              "      <th>PassengerId</th>\n",
              "      <td>0</td>\n",
              "    </tr>\n",
              "    <tr>\n",
              "      <th>Pclass</th>\n",
              "      <td>0</td>\n",
              "    </tr>\n",
              "    <tr>\n",
              "      <th>Name</th>\n",
              "      <td>0</td>\n",
              "    </tr>\n",
              "    <tr>\n",
              "      <th>Sex</th>\n",
              "      <td>0</td>\n",
              "    </tr>\n",
              "    <tr>\n",
              "      <th>Age</th>\n",
              "      <td>22</td>\n",
              "    </tr>\n",
              "    <tr>\n",
              "      <th>SibSp</th>\n",
              "      <td>0</td>\n",
              "    </tr>\n",
              "    <tr>\n",
              "      <th>Parch</th>\n",
              "      <td>0</td>\n",
              "    </tr>\n",
              "    <tr>\n",
              "      <th>Ticket</th>\n",
              "      <td>0</td>\n",
              "    </tr>\n",
              "    <tr>\n",
              "      <th>Fare</th>\n",
              "      <td>0</td>\n",
              "    </tr>\n",
              "    <tr>\n",
              "      <th>Cabin</th>\n",
              "      <td>94</td>\n",
              "    </tr>\n",
              "    <tr>\n",
              "      <th>Embarked</th>\n",
              "      <td>0</td>\n",
              "    </tr>\n",
              "  </tbody>\n",
              "</table>\n",
              "</div><br><label><b>dtype:</b> int64</label>"
            ]
          },
          "metadata": {},
          "execution_count": 6
        }
      ]
    },
    {
      "cell_type": "code",
      "source": [
        "# Check Missing Values on X_test\n",
        "\n",
        "X_test.isnull().sum()"
      ],
      "metadata": {
        "colab": {
          "base_uri": "https://localhost:8080/",
          "height": 429
        },
        "id": "5HK72vbwpxKU",
        "outputId": "6b51d24a-3891-442a-a8a5-07c3ca7e41d9"
      },
      "execution_count": null,
      "outputs": [
        {
          "output_type": "execute_result",
          "data": {
            "text/plain": [
              "PassengerId     0\n",
              "Pclass          0\n",
              "Name            0\n",
              "Sex             0\n",
              "Age            24\n",
              "SibSp           0\n",
              "Parch           0\n",
              "Ticket          0\n",
              "Fare            0\n",
              "Cabin          96\n",
              "Embarked        0\n",
              "dtype: int64"
            ],
            "text/html": [
              "<div>\n",
              "<style scoped>\n",
              "    .dataframe tbody tr th:only-of-type {\n",
              "        vertical-align: middle;\n",
              "    }\n",
              "\n",
              "    .dataframe tbody tr th {\n",
              "        vertical-align: top;\n",
              "    }\n",
              "\n",
              "    .dataframe thead th {\n",
              "        text-align: right;\n",
              "    }\n",
              "</style>\n",
              "<table border=\"1\" class=\"dataframe\">\n",
              "  <thead>\n",
              "    <tr style=\"text-align: right;\">\n",
              "      <th></th>\n",
              "      <th>0</th>\n",
              "    </tr>\n",
              "  </thead>\n",
              "  <tbody>\n",
              "    <tr>\n",
              "      <th>PassengerId</th>\n",
              "      <td>0</td>\n",
              "    </tr>\n",
              "    <tr>\n",
              "      <th>Pclass</th>\n",
              "      <td>0</td>\n",
              "    </tr>\n",
              "    <tr>\n",
              "      <th>Name</th>\n",
              "      <td>0</td>\n",
              "    </tr>\n",
              "    <tr>\n",
              "      <th>Sex</th>\n",
              "      <td>0</td>\n",
              "    </tr>\n",
              "    <tr>\n",
              "      <th>Age</th>\n",
              "      <td>24</td>\n",
              "    </tr>\n",
              "    <tr>\n",
              "      <th>SibSp</th>\n",
              "      <td>0</td>\n",
              "    </tr>\n",
              "    <tr>\n",
              "      <th>Parch</th>\n",
              "      <td>0</td>\n",
              "    </tr>\n",
              "    <tr>\n",
              "      <th>Ticket</th>\n",
              "      <td>0</td>\n",
              "    </tr>\n",
              "    <tr>\n",
              "      <th>Fare</th>\n",
              "      <td>0</td>\n",
              "    </tr>\n",
              "    <tr>\n",
              "      <th>Cabin</th>\n",
              "      <td>96</td>\n",
              "    </tr>\n",
              "    <tr>\n",
              "      <th>Embarked</th>\n",
              "      <td>0</td>\n",
              "    </tr>\n",
              "  </tbody>\n",
              "</table>\n",
              "</div><br><label><b>dtype:</b> int64</label>"
            ]
          },
          "metadata": {},
          "execution_count": 7
        }
      ]
    },
    {
      "cell_type": "markdown",
      "source": [
        "We will impute this missing values in Pipeline using median imputation."
      ],
      "metadata": {
        "id": "Bu1fRHLypdkY"
      }
    },
    {
      "cell_type": "markdown",
      "source": [
        "### A.2.3 - Feature Selection"
      ],
      "metadata": {
        "id": "_WdLmllOp_SB"
      }
    },
    {
      "cell_type": "markdown",
      "source": [
        "Let's assume columns `PassengerId`, `Cabin`, `Ticket`, `Embarked`, and `Name` do not have strong correlations against the target (column `Survived`)."
      ],
      "metadata": {
        "id": "4y00dzUsqQhq"
      }
    },
    {
      "cell_type": "code",
      "source": [
        "# Drop Columns\n",
        "\n",
        "X_train.drop(['PassengerId', 'Cabin', 'Ticket', 'Embarked', 'Name'], axis=1, inplace=True)\n",
        "X_val.drop(['PassengerId', 'Cabin', 'Ticket', 'Embarked', 'Name'], axis=1, inplace=True)\n",
        "X_test.drop(['PassengerId', 'Cabin', 'Ticket', 'Embarked', 'Name'], axis=1, inplace=True)\n",
        "\n",
        "X_train"
      ],
      "metadata": {
        "colab": {
          "base_uri": "https://localhost:8080/",
          "height": 424
        },
        "id": "wSHaQrqSqgEB",
        "outputId": "9923ee14-b526-4102-e4f7-86241d315620"
      },
      "execution_count": null,
      "outputs": [
        {
          "output_type": "execute_result",
          "data": {
            "text/plain": [
              "     Pclass     Sex   Age  SibSp  Parch      Fare\n",
              "868       3    male   NaN      0      0    9.5000\n",
              "223       3    male   NaN      0      0    7.8958\n",
              "846       3    male   NaN      8      2   69.5500\n",
              "171       3    male   4.0      4      1   29.1250\n",
              "435       1  female  14.0      1      2  120.0000\n",
              "..      ...     ...   ...    ...    ...       ...\n",
              "533       3  female   NaN      0      2   22.3583\n",
              "302       3    male  19.0      0      0    0.0000\n",
              "473       2  female  23.0      0      0   13.7917\n",
              "283       3    male  19.0      0      0    8.0500\n",
              "829       1  female  62.0      0      0   80.0000\n",
              "\n",
              "[643 rows x 6 columns]"
            ],
            "text/html": [
              "\n",
              "  <div id=\"df-916c8206-4b0f-4d03-9fb6-6470bee6b013\" class=\"colab-df-container\">\n",
              "    <div>\n",
              "<style scoped>\n",
              "    .dataframe tbody tr th:only-of-type {\n",
              "        vertical-align: middle;\n",
              "    }\n",
              "\n",
              "    .dataframe tbody tr th {\n",
              "        vertical-align: top;\n",
              "    }\n",
              "\n",
              "    .dataframe thead th {\n",
              "        text-align: right;\n",
              "    }\n",
              "</style>\n",
              "<table border=\"1\" class=\"dataframe\">\n",
              "  <thead>\n",
              "    <tr style=\"text-align: right;\">\n",
              "      <th></th>\n",
              "      <th>Pclass</th>\n",
              "      <th>Sex</th>\n",
              "      <th>Age</th>\n",
              "      <th>SibSp</th>\n",
              "      <th>Parch</th>\n",
              "      <th>Fare</th>\n",
              "    </tr>\n",
              "  </thead>\n",
              "  <tbody>\n",
              "    <tr>\n",
              "      <th>868</th>\n",
              "      <td>3</td>\n",
              "      <td>male</td>\n",
              "      <td>NaN</td>\n",
              "      <td>0</td>\n",
              "      <td>0</td>\n",
              "      <td>9.5000</td>\n",
              "    </tr>\n",
              "    <tr>\n",
              "      <th>223</th>\n",
              "      <td>3</td>\n",
              "      <td>male</td>\n",
              "      <td>NaN</td>\n",
              "      <td>0</td>\n",
              "      <td>0</td>\n",
              "      <td>7.8958</td>\n",
              "    </tr>\n",
              "    <tr>\n",
              "      <th>846</th>\n",
              "      <td>3</td>\n",
              "      <td>male</td>\n",
              "      <td>NaN</td>\n",
              "      <td>8</td>\n",
              "      <td>2</td>\n",
              "      <td>69.5500</td>\n",
              "    </tr>\n",
              "    <tr>\n",
              "      <th>171</th>\n",
              "      <td>3</td>\n",
              "      <td>male</td>\n",
              "      <td>4.0</td>\n",
              "      <td>4</td>\n",
              "      <td>1</td>\n",
              "      <td>29.1250</td>\n",
              "    </tr>\n",
              "    <tr>\n",
              "      <th>435</th>\n",
              "      <td>1</td>\n",
              "      <td>female</td>\n",
              "      <td>14.0</td>\n",
              "      <td>1</td>\n",
              "      <td>2</td>\n",
              "      <td>120.0000</td>\n",
              "    </tr>\n",
              "    <tr>\n",
              "      <th>...</th>\n",
              "      <td>...</td>\n",
              "      <td>...</td>\n",
              "      <td>...</td>\n",
              "      <td>...</td>\n",
              "      <td>...</td>\n",
              "      <td>...</td>\n",
              "    </tr>\n",
              "    <tr>\n",
              "      <th>533</th>\n",
              "      <td>3</td>\n",
              "      <td>female</td>\n",
              "      <td>NaN</td>\n",
              "      <td>0</td>\n",
              "      <td>2</td>\n",
              "      <td>22.3583</td>\n",
              "    </tr>\n",
              "    <tr>\n",
              "      <th>302</th>\n",
              "      <td>3</td>\n",
              "      <td>male</td>\n",
              "      <td>19.0</td>\n",
              "      <td>0</td>\n",
              "      <td>0</td>\n",
              "      <td>0.0000</td>\n",
              "    </tr>\n",
              "    <tr>\n",
              "      <th>473</th>\n",
              "      <td>2</td>\n",
              "      <td>female</td>\n",
              "      <td>23.0</td>\n",
              "      <td>0</td>\n",
              "      <td>0</td>\n",
              "      <td>13.7917</td>\n",
              "    </tr>\n",
              "    <tr>\n",
              "      <th>283</th>\n",
              "      <td>3</td>\n",
              "      <td>male</td>\n",
              "      <td>19.0</td>\n",
              "      <td>0</td>\n",
              "      <td>0</td>\n",
              "      <td>8.0500</td>\n",
              "    </tr>\n",
              "    <tr>\n",
              "      <th>829</th>\n",
              "      <td>1</td>\n",
              "      <td>female</td>\n",
              "      <td>62.0</td>\n",
              "      <td>0</td>\n",
              "      <td>0</td>\n",
              "      <td>80.0000</td>\n",
              "    </tr>\n",
              "  </tbody>\n",
              "</table>\n",
              "<p>643 rows × 6 columns</p>\n",
              "</div>\n",
              "    <div class=\"colab-df-buttons\">\n",
              "\n",
              "  <div class=\"colab-df-container\">\n",
              "    <button class=\"colab-df-convert\" onclick=\"convertToInteractive('df-916c8206-4b0f-4d03-9fb6-6470bee6b013')\"\n",
              "            title=\"Convert this dataframe to an interactive table.\"\n",
              "            style=\"display:none;\">\n",
              "\n",
              "  <svg xmlns=\"http://www.w3.org/2000/svg\" height=\"24px\" viewBox=\"0 -960 960 960\">\n",
              "    <path d=\"M120-120v-720h720v720H120Zm60-500h600v-160H180v160Zm220 220h160v-160H400v160Zm0 220h160v-160H400v160ZM180-400h160v-160H180v160Zm440 0h160v-160H620v160ZM180-180h160v-160H180v160Zm440 0h160v-160H620v160Z\"/>\n",
              "  </svg>\n",
              "    </button>\n",
              "\n",
              "  <style>\n",
              "    .colab-df-container {\n",
              "      display:flex;\n",
              "      gap: 12px;\n",
              "    }\n",
              "\n",
              "    .colab-df-convert {\n",
              "      background-color: #E8F0FE;\n",
              "      border: none;\n",
              "      border-radius: 50%;\n",
              "      cursor: pointer;\n",
              "      display: none;\n",
              "      fill: #1967D2;\n",
              "      height: 32px;\n",
              "      padding: 0 0 0 0;\n",
              "      width: 32px;\n",
              "    }\n",
              "\n",
              "    .colab-df-convert:hover {\n",
              "      background-color: #E2EBFA;\n",
              "      box-shadow: 0px 1px 2px rgba(60, 64, 67, 0.3), 0px 1px 3px 1px rgba(60, 64, 67, 0.15);\n",
              "      fill: #174EA6;\n",
              "    }\n",
              "\n",
              "    .colab-df-buttons div {\n",
              "      margin-bottom: 4px;\n",
              "    }\n",
              "\n",
              "    [theme=dark] .colab-df-convert {\n",
              "      background-color: #3B4455;\n",
              "      fill: #D2E3FC;\n",
              "    }\n",
              "\n",
              "    [theme=dark] .colab-df-convert:hover {\n",
              "      background-color: #434B5C;\n",
              "      box-shadow: 0px 1px 3px 1px rgba(0, 0, 0, 0.15);\n",
              "      filter: drop-shadow(0px 1px 2px rgba(0, 0, 0, 0.3));\n",
              "      fill: #FFFFFF;\n",
              "    }\n",
              "  </style>\n",
              "\n",
              "    <script>\n",
              "      const buttonEl =\n",
              "        document.querySelector('#df-916c8206-4b0f-4d03-9fb6-6470bee6b013 button.colab-df-convert');\n",
              "      buttonEl.style.display =\n",
              "        google.colab.kernel.accessAllowed ? 'block' : 'none';\n",
              "\n",
              "      async function convertToInteractive(key) {\n",
              "        const element = document.querySelector('#df-916c8206-4b0f-4d03-9fb6-6470bee6b013');\n",
              "        const dataTable =\n",
              "          await google.colab.kernel.invokeFunction('convertToInteractive',\n",
              "                                                    [key], {});\n",
              "        if (!dataTable) return;\n",
              "\n",
              "        const docLinkHtml = 'Like what you see? Visit the ' +\n",
              "          '<a target=\"_blank\" href=https://colab.research.google.com/notebooks/data_table.ipynb>data table notebook</a>'\n",
              "          + ' to learn more about interactive tables.';\n",
              "        element.innerHTML = '';\n",
              "        dataTable['output_type'] = 'display_data';\n",
              "        await google.colab.output.renderOutput(dataTable, element);\n",
              "        const docLink = document.createElement('div');\n",
              "        docLink.innerHTML = docLinkHtml;\n",
              "        element.appendChild(docLink);\n",
              "      }\n",
              "    </script>\n",
              "  </div>\n",
              "\n",
              "\n",
              "<div id=\"df-08bfab7f-fe85-4c22-be58-41825ed254f7\">\n",
              "  <button class=\"colab-df-quickchart\" onclick=\"quickchart('df-08bfab7f-fe85-4c22-be58-41825ed254f7')\"\n",
              "            title=\"Suggest charts\"\n",
              "            style=\"display:none;\">\n",
              "\n",
              "<svg xmlns=\"http://www.w3.org/2000/svg\" height=\"24px\"viewBox=\"0 0 24 24\"\n",
              "     width=\"24px\">\n",
              "    <g>\n",
              "        <path d=\"M19 3H5c-1.1 0-2 .9-2 2v14c0 1.1.9 2 2 2h14c1.1 0 2-.9 2-2V5c0-1.1-.9-2-2-2zM9 17H7v-7h2v7zm4 0h-2V7h2v10zm4 0h-2v-4h2v4z\"/>\n",
              "    </g>\n",
              "</svg>\n",
              "  </button>\n",
              "\n",
              "<style>\n",
              "  .colab-df-quickchart {\n",
              "      --bg-color: #E8F0FE;\n",
              "      --fill-color: #1967D2;\n",
              "      --hover-bg-color: #E2EBFA;\n",
              "      --hover-fill-color: #174EA6;\n",
              "      --disabled-fill-color: #AAA;\n",
              "      --disabled-bg-color: #DDD;\n",
              "  }\n",
              "\n",
              "  [theme=dark] .colab-df-quickchart {\n",
              "      --bg-color: #3B4455;\n",
              "      --fill-color: #D2E3FC;\n",
              "      --hover-bg-color: #434B5C;\n",
              "      --hover-fill-color: #FFFFFF;\n",
              "      --disabled-bg-color: #3B4455;\n",
              "      --disabled-fill-color: #666;\n",
              "  }\n",
              "\n",
              "  .colab-df-quickchart {\n",
              "    background-color: var(--bg-color);\n",
              "    border: none;\n",
              "    border-radius: 50%;\n",
              "    cursor: pointer;\n",
              "    display: none;\n",
              "    fill: var(--fill-color);\n",
              "    height: 32px;\n",
              "    padding: 0;\n",
              "    width: 32px;\n",
              "  }\n",
              "\n",
              "  .colab-df-quickchart:hover {\n",
              "    background-color: var(--hover-bg-color);\n",
              "    box-shadow: 0 1px 2px rgba(60, 64, 67, 0.3), 0 1px 3px 1px rgba(60, 64, 67, 0.15);\n",
              "    fill: var(--button-hover-fill-color);\n",
              "  }\n",
              "\n",
              "  .colab-df-quickchart-complete:disabled,\n",
              "  .colab-df-quickchart-complete:disabled:hover {\n",
              "    background-color: var(--disabled-bg-color);\n",
              "    fill: var(--disabled-fill-color);\n",
              "    box-shadow: none;\n",
              "  }\n",
              "\n",
              "  .colab-df-spinner {\n",
              "    border: 2px solid var(--fill-color);\n",
              "    border-color: transparent;\n",
              "    border-bottom-color: var(--fill-color);\n",
              "    animation:\n",
              "      spin 1s steps(1) infinite;\n",
              "  }\n",
              "\n",
              "  @keyframes spin {\n",
              "    0% {\n",
              "      border-color: transparent;\n",
              "      border-bottom-color: var(--fill-color);\n",
              "      border-left-color: var(--fill-color);\n",
              "    }\n",
              "    20% {\n",
              "      border-color: transparent;\n",
              "      border-left-color: var(--fill-color);\n",
              "      border-top-color: var(--fill-color);\n",
              "    }\n",
              "    30% {\n",
              "      border-color: transparent;\n",
              "      border-left-color: var(--fill-color);\n",
              "      border-top-color: var(--fill-color);\n",
              "      border-right-color: var(--fill-color);\n",
              "    }\n",
              "    40% {\n",
              "      border-color: transparent;\n",
              "      border-right-color: var(--fill-color);\n",
              "      border-top-color: var(--fill-color);\n",
              "    }\n",
              "    60% {\n",
              "      border-color: transparent;\n",
              "      border-right-color: var(--fill-color);\n",
              "    }\n",
              "    80% {\n",
              "      border-color: transparent;\n",
              "      border-right-color: var(--fill-color);\n",
              "      border-bottom-color: var(--fill-color);\n",
              "    }\n",
              "    90% {\n",
              "      border-color: transparent;\n",
              "      border-bottom-color: var(--fill-color);\n",
              "    }\n",
              "  }\n",
              "</style>\n",
              "\n",
              "  <script>\n",
              "    async function quickchart(key) {\n",
              "      const quickchartButtonEl =\n",
              "        document.querySelector('#' + key + ' button');\n",
              "      quickchartButtonEl.disabled = true;  // To prevent multiple clicks.\n",
              "      quickchartButtonEl.classList.add('colab-df-spinner');\n",
              "      try {\n",
              "        const charts = await google.colab.kernel.invokeFunction(\n",
              "            'suggestCharts', [key], {});\n",
              "      } catch (error) {\n",
              "        console.error('Error during call to suggestCharts:', error);\n",
              "      }\n",
              "      quickchartButtonEl.classList.remove('colab-df-spinner');\n",
              "      quickchartButtonEl.classList.add('colab-df-quickchart-complete');\n",
              "    }\n",
              "    (() => {\n",
              "      let quickchartButtonEl =\n",
              "        document.querySelector('#df-08bfab7f-fe85-4c22-be58-41825ed254f7 button');\n",
              "      quickchartButtonEl.style.display =\n",
              "        google.colab.kernel.accessAllowed ? 'block' : 'none';\n",
              "    })();\n",
              "  </script>\n",
              "</div>\n",
              "\n",
              "  <div id=\"id_1d19d45a-4554-4ebd-b442-61e2f5f16bc0\">\n",
              "    <style>\n",
              "      .colab-df-generate {\n",
              "        background-color: #E8F0FE;\n",
              "        border: none;\n",
              "        border-radius: 50%;\n",
              "        cursor: pointer;\n",
              "        display: none;\n",
              "        fill: #1967D2;\n",
              "        height: 32px;\n",
              "        padding: 0 0 0 0;\n",
              "        width: 32px;\n",
              "      }\n",
              "\n",
              "      .colab-df-generate:hover {\n",
              "        background-color: #E2EBFA;\n",
              "        box-shadow: 0px 1px 2px rgba(60, 64, 67, 0.3), 0px 1px 3px 1px rgba(60, 64, 67, 0.15);\n",
              "        fill: #174EA6;\n",
              "      }\n",
              "\n",
              "      [theme=dark] .colab-df-generate {\n",
              "        background-color: #3B4455;\n",
              "        fill: #D2E3FC;\n",
              "      }\n",
              "\n",
              "      [theme=dark] .colab-df-generate:hover {\n",
              "        background-color: #434B5C;\n",
              "        box-shadow: 0px 1px 3px 1px rgba(0, 0, 0, 0.15);\n",
              "        filter: drop-shadow(0px 1px 2px rgba(0, 0, 0, 0.3));\n",
              "        fill: #FFFFFF;\n",
              "      }\n",
              "    </style>\n",
              "    <button class=\"colab-df-generate\" onclick=\"generateWithVariable('X_train')\"\n",
              "            title=\"Generate code using this dataframe.\"\n",
              "            style=\"display:none;\">\n",
              "\n",
              "  <svg xmlns=\"http://www.w3.org/2000/svg\" height=\"24px\"viewBox=\"0 0 24 24\"\n",
              "       width=\"24px\">\n",
              "    <path d=\"M7,19H8.4L18.45,9,17,7.55,7,17.6ZM5,21V16.75L18.45,3.32a2,2,0,0,1,2.83,0l1.4,1.43a1.91,1.91,0,0,1,.58,1.4,1.91,1.91,0,0,1-.58,1.4L9.25,21ZM18.45,9,17,7.55Zm-12,3A5.31,5.31,0,0,0,4.9,8.1,5.31,5.31,0,0,0,1,6.5,5.31,5.31,0,0,0,4.9,4.9,5.31,5.31,0,0,0,6.5,1,5.31,5.31,0,0,0,8.1,4.9,5.31,5.31,0,0,0,12,6.5,5.46,5.46,0,0,0,6.5,12Z\"/>\n",
              "  </svg>\n",
              "    </button>\n",
              "    <script>\n",
              "      (() => {\n",
              "      const buttonEl =\n",
              "        document.querySelector('#id_1d19d45a-4554-4ebd-b442-61e2f5f16bc0 button.colab-df-generate');\n",
              "      buttonEl.style.display =\n",
              "        google.colab.kernel.accessAllowed ? 'block' : 'none';\n",
              "\n",
              "      buttonEl.onclick = () => {\n",
              "        google.colab.notebook.generateWithVariable('X_train');\n",
              "      }\n",
              "      })();\n",
              "    </script>\n",
              "  </div>\n",
              "\n",
              "    </div>\n",
              "  </div>\n"
            ],
            "application/vnd.google.colaboratory.intrinsic+json": {
              "type": "dataframe",
              "variable_name": "X_train",
              "summary": "{\n  \"name\": \"X_train\",\n  \"rows\": 643,\n  \"fields\": [\n    {\n      \"column\": \"Pclass\",\n      \"properties\": {\n        \"dtype\": \"number\",\n        \"std\": 0,\n        \"min\": 1,\n        \"max\": 3,\n        \"num_unique_values\": 3,\n        \"samples\": [\n          3,\n          1,\n          2\n        ],\n        \"semantic_type\": \"\",\n        \"description\": \"\"\n      }\n    },\n    {\n      \"column\": \"Sex\",\n      \"properties\": {\n        \"dtype\": \"category\",\n        \"num_unique_values\": 2,\n        \"samples\": [\n          \"female\",\n          \"male\"\n        ],\n        \"semantic_type\": \"\",\n        \"description\": \"\"\n      }\n    },\n    {\n      \"column\": \"Age\",\n      \"properties\": {\n        \"dtype\": \"number\",\n        \"std\": 14.40034814190211,\n        \"min\": 0.42,\n        \"max\": 80.0,\n        \"num_unique_values\": 81,\n        \"samples\": [\n          36.0,\n          4.0\n        ],\n        \"semantic_type\": \"\",\n        \"description\": \"\"\n      }\n    },\n    {\n      \"column\": \"SibSp\",\n      \"properties\": {\n        \"dtype\": \"number\",\n        \"std\": 1,\n        \"min\": 0,\n        \"max\": 8,\n        \"num_unique_values\": 7,\n        \"samples\": [\n          0,\n          8\n        ],\n        \"semantic_type\": \"\",\n        \"description\": \"\"\n      }\n    },\n    {\n      \"column\": \"Parch\",\n      \"properties\": {\n        \"dtype\": \"number\",\n        \"std\": 0,\n        \"min\": 0,\n        \"max\": 6,\n        \"num_unique_values\": 7,\n        \"samples\": [\n          0,\n          2\n        ],\n        \"semantic_type\": \"\",\n        \"description\": \"\"\n      }\n    },\n    {\n      \"column\": \"Fare\",\n      \"properties\": {\n        \"dtype\": \"number\",\n        \"std\": 52.313338101684785,\n        \"min\": 0.0,\n        \"max\": 512.3292,\n        \"num_unique_values\": 208,\n        \"samples\": [\n          93.5,\n          39.0\n        ],\n        \"semantic_type\": \"\",\n        \"description\": \"\"\n      }\n    }\n  ]\n}"
            }
          },
          "metadata": {},
          "execution_count": 8
        }
      ]
    },
    {
      "cell_type": "markdown",
      "source": [
        "### A.2.4 - Pipeline"
      ],
      "metadata": {
        "id": "6W2UomEQru4G"
      }
    },
    {
      "cell_type": "code",
      "source": [
        "# Get Numerical Columns and Categorical Columns\n",
        "\n",
        "num_columns = X_train.select_dtypes(include=np.number).columns.tolist()\n",
        "cat_columns = X_train.select_dtypes(include=['object']).columns.tolist()\n",
        "\n",
        "print('Numerical Columns : ', num_columns)\n",
        "print('Categorical Columns : ', cat_columns)"
      ],
      "metadata": {
        "colab": {
          "base_uri": "https://localhost:8080/"
        },
        "id": "l147CuSHrNjp",
        "outputId": "a6d209c4-c08d-4a4c-e148-61865bc4b0d4"
      },
      "execution_count": null,
      "outputs": [
        {
          "output_type": "stream",
          "name": "stdout",
          "text": [
            "Numerical Columns :  ['Pclass', 'Age', 'SibSp', 'Parch', 'Fare']\n",
            "Categorical Columns :  ['Sex']\n"
          ]
        }
      ]
    },
    {
      "cell_type": "code",
      "source": [
        "# Create A Pipeline\n",
        "\n",
        "num_pipeline = make_pipeline(SimpleImputer(strategy='median'),\n",
        "                             StandardScaler())\n",
        "\n",
        "cat_pipeline = make_pipeline(OneHotEncoder())\n",
        "\n",
        "final_pipeline = ColumnTransformer([\n",
        "    ('pipe_num', num_pipeline, num_columns),\n",
        "    ('pipe_cat', cat_pipeline, cat_columns)\n",
        "])"
      ],
      "metadata": {
        "id": "iIXoFIgkrx2c"
      },
      "execution_count": null,
      "outputs": []
    },
    {
      "cell_type": "code",
      "source": [
        "# Fit and Transform\n",
        "\n",
        "X_train = final_pipeline.fit_transform(X_train)\n",
        "X_val = final_pipeline.transform(X_val)\n",
        "X_test = final_pipeline.transform(X_test)\n",
        "X_train.shape"
      ],
      "metadata": {
        "colab": {
          "base_uri": "https://localhost:8080/"
        },
        "id": "j2YSScWesTm5",
        "outputId": "6006088d-5ccf-4d34-9199-6b1c272f0204"
      },
      "execution_count": null,
      "outputs": [
        {
          "output_type": "execute_result",
          "data": {
            "text/plain": [
              "(643, 7)"
            ]
          },
          "metadata": {},
          "execution_count": 11
        }
      ]
    },
    {
      "cell_type": "markdown",
      "source": [
        "# A.3 - Sequential API"
      ],
      "metadata": {
        "id": "jBL6qgr49MIg"
      }
    },
    {
      "cell_type": "markdown",
      "source": [
        "## A.3.1 - Model Definition"
      ],
      "metadata": {
        "id": "oGLDno1o9RUH"
      }
    },
    {
      "cell_type": "code",
      "source": [
        "# Clear session\n",
        "\n",
        "import tensorflow as tf\n",
        "seed = 20\n",
        "tf.keras.backend.clear_session()\n",
        "np.random.seed(seed)\n",
        "tf.random.set_seed(seed)"
      ],
      "metadata": {
        "id": "uIobycNh9TgY"
      },
      "execution_count": null,
      "outputs": []
    },
    {
      "cell_type": "code",
      "source": [
        "# Create Sequential API\n",
        "\n",
        "from tensorflow.keras.models import Sequential\n",
        "from tensorflow.keras.layers import Dense\n",
        "\n",
        "model_sequential = Sequential()\n",
        "model_sequential.add(Dense(16,\n",
        "                           activation='relu',\n",
        "                           kernel_initializer=tf.keras.initializers.HeNormal(seed),\n",
        "                           input_shape=(7,)))\n",
        "model_sequential.add(Dense(8,\n",
        "                           activation='relu',\n",
        "                           kernel_initializer=tf.keras.initializers.HeNormal(seed)))\n",
        "model_sequential.add(Dense(1,\n",
        "                           activation='sigmoid',\n",
        "                           kernel_initializer=tf.keras.initializers.GlorotNormal(seed)))\n",
        "\n",
        "model_sequential.compile(loss='binary_crossentropy',\n",
        "                         optimizer='adam',\n",
        "                         metrics=['accuracy'])\n",
        "model_sequential.summary()"
      ],
      "metadata": {
        "colab": {
          "base_uri": "https://localhost:8080/"
        },
        "id": "cE_Gplkz9-WP",
        "outputId": "ab7b3671-c3a0-4602-af64-910da9f66217"
      },
      "execution_count": null,
      "outputs": [
        {
          "output_type": "stream",
          "name": "stdout",
          "text": [
            "Model: \"sequential\"\n",
            "_________________________________________________________________\n",
            " Layer (type)                Output Shape              Param #   \n",
            "=================================================================\n",
            " dense (Dense)               (None, 16)                128       \n",
            "                                                                 \n",
            " dense_1 (Dense)             (None, 8)                 136       \n",
            "                                                                 \n",
            " dense_2 (Dense)             (None, 1)                 9         \n",
            "                                                                 \n",
            "=================================================================\n",
            "Total params: 273 (1.07 KB)\n",
            "Trainable params: 273 (1.07 KB)\n",
            "Non-trainable params: 0 (0.00 Byte)\n",
            "_________________________________________________________________\n"
          ]
        }
      ]
    },
    {
      "cell_type": "code",
      "source": [
        "# Plot layers\n",
        "\n",
        "tf.keras.utils.plot_model(model_sequential, show_shapes=True)"
      ],
      "metadata": {
        "colab": {
          "base_uri": "https://localhost:8080/",
          "height": 422
        },
        "id": "U9gQbZf3Bhq0",
        "outputId": "43a2cbb4-ab45-43be-ad99-2f738a514d4d"
      },
      "execution_count": null,
      "outputs": [
        {
          "output_type": "execute_result",
          "data": {
            "image/png": "[encoded data removed]",
            "text/plain": [
              "<IPython.core.display.Image object>"
            ]
          },
          "metadata": {},
          "execution_count": 21
        }
      ]
    },
    {
      "cell_type": "markdown",
      "source": [
        "## A.3.2 - Model Training"
      ],
      "metadata": {
        "id": "-A8LVqPrBwvV"
      }
    },
    {
      "cell_type": "code",
      "source": [
        "# Train the model\n",
        "\n",
        "%%time\n",
        "\n",
        "history_sequential = model_sequential.fit(X_train,\n",
        "                                          y_train,\n",
        "                                          epochs=20,\n",
        "                                          validation_data=(X_val, y_val),\n",
        "                                          batch_size=10)"
      ],
      "metadata": {
        "colab": {
          "base_uri": "https://localhost:8080/"
        },
        "id": "pVVssDX0B0wP",
        "outputId": "033e6ed1-6b6b-4ae8-a9e7-d7250eb1e8e2"
      },
      "execution_count": null,
      "outputs": [
        {
          "output_type": "stream",
          "name": "stdout",
          "text": [
            "Epoch 1/20\n",
            "65/65 [==============================] - 2s 8ms/step - loss: 0.8321 - accuracy: 0.4541 - val_loss: 0.7100 - val_accuracy: 0.4561\n",
            "Epoch 2/20\n",
            "65/65 [==============================] - 0s 5ms/step - loss: 0.6695 - accuracy: 0.5925 - val_loss: 0.6356 - val_accuracy: 0.5877\n",
            "Epoch 3/20\n",
            "65/65 [==============================] - 0s 5ms/step - loss: 0.6027 - accuracy: 0.6656 - val_loss: 0.5930 - val_accuracy: 0.6491\n",
            "Epoch 4/20\n",
            "65/65 [==============================] - 0s 5ms/step - loss: 0.5610 - accuracy: 0.7201 - val_loss: 0.5565 - val_accuracy: 0.6754\n",
            "Epoch 5/20\n",
            "65/65 [==============================] - 0s 7ms/step - loss: 0.5287 - accuracy: 0.7543 - val_loss: 0.5222 - val_accuracy: 0.7807\n",
            "Epoch 6/20\n",
            "65/65 [==============================] - 0s 6ms/step - loss: 0.5023 - accuracy: 0.7807 - val_loss: 0.4905 - val_accuracy: 0.7982\n",
            "Epoch 7/20\n",
            "65/65 [==============================] - 1s 9ms/step - loss: 0.4815 - accuracy: 0.7963 - val_loss: 0.4674 - val_accuracy: 0.8070\n",
            "Epoch 8/20\n",
            "65/65 [==============================] - 0s 7ms/step - loss: 0.4656 - accuracy: 0.7963 - val_loss: 0.4499 - val_accuracy: 0.8246\n",
            "Epoch 9/20\n",
            "65/65 [==============================] - 1s 7ms/step - loss: 0.4543 - accuracy: 0.8025 - val_loss: 0.4343 - val_accuracy: 0.8421\n",
            "Epoch 10/20\n",
            "65/65 [==============================] - 0s 7ms/step - loss: 0.4437 - accuracy: 0.8103 - val_loss: 0.4221 - val_accuracy: 0.8421\n",
            "Epoch 11/20\n",
            "65/65 [==============================] - 0s 7ms/step - loss: 0.4368 - accuracy: 0.8196 - val_loss: 0.4150 - val_accuracy: 0.8421\n",
            "Epoch 12/20\n",
            "65/65 [==============================] - 0s 4ms/step - loss: 0.4319 - accuracy: 0.8040 - val_loss: 0.4108 - val_accuracy: 0.8509\n",
            "Epoch 13/20\n",
            "65/65 [==============================] - 0s 5ms/step - loss: 0.4269 - accuracy: 0.8165 - val_loss: 0.4049 - val_accuracy: 0.8509\n",
            "Epoch 14/20\n",
            "65/65 [==============================] - 0s 5ms/step - loss: 0.4230 - accuracy: 0.8118 - val_loss: 0.4030 - val_accuracy: 0.8509\n",
            "Epoch 15/20\n",
            "65/65 [==============================] - 0s 6ms/step - loss: 0.4190 - accuracy: 0.8212 - val_loss: 0.4009 - val_accuracy: 0.8509\n",
            "Epoch 16/20\n",
            "65/65 [==============================] - 0s 6ms/step - loss: 0.4166 - accuracy: 0.8258 - val_loss: 0.4008 - val_accuracy: 0.8509\n",
            "Epoch 17/20\n",
            "65/65 [==============================] - 0s 5ms/step - loss: 0.4144 - accuracy: 0.8212 - val_loss: 0.3986 - val_accuracy: 0.8509\n",
            "Epoch 18/20\n",
            "65/65 [==============================] - 0s 4ms/step - loss: 0.4122 - accuracy: 0.8149 - val_loss: 0.3997 - val_accuracy: 0.8509\n",
            "Epoch 19/20\n",
            "65/65 [==============================] - 0s 5ms/step - loss: 0.4097 - accuracy: 0.8212 - val_loss: 0.3987 - val_accuracy: 0.8509\n",
            "Epoch 20/20\n",
            "65/65 [==============================] - 0s 5ms/step - loss: 0.4081 - accuracy: 0.8227 - val_loss: 0.3976 - val_accuracy: 0.8596\n",
            "CPU times: user 8.95 s, sys: 557 ms, total: 9.51 s\n",
            "Wall time: 9.1 s\n"
          ]
        }
      ]
    },
    {
      "cell_type": "markdown",
      "source": [
        "## A.3.3 - Model Evaluation"
      ],
      "metadata": {
        "id": "KYKDx7hXFFyF"
      }
    },
    {
      "cell_type": "code",
      "source": [
        "# Plot training result\n",
        "\n",
        "history_sequential_df = pd.DataFrame(history_sequential.history)\n",
        "\n",
        "plt.figure(figsize=(15,5))\n",
        "plt.subplot(1, 2, 1)\n",
        "sns.lineplot(data=history_sequential_df[['loss', 'val_loss']])\n",
        "plt.grid()\n",
        "plt.title('Grafik loss vs val-loss')\n",
        "\n",
        "plt.subplot(1, 2, 2)\n",
        "sns.lineplot(data=history_sequential_df[['accuracy', 'val_accuracy']])\n",
        "plt.grid()\n",
        "plt.title('Grafik Acc vs Val-Acc')"
      ],
      "metadata": {
        "colab": {
          "base_uri": "https://localhost:8080/",
          "height": 486
        },
        "id": "e0AvsJ10FJKv",
        "outputId": "60761899-c21d-41b7-939e-9803f699e6cc"
      },
      "execution_count": null,
      "outputs": [
        {
          "output_type": "execute_result",
          "data": {
            "text/plain": [
              "Text(0.5, 1.0, 'Grafik Acc vs Val-Acc')"
            ]
          },
          "metadata": {},
          "execution_count": 24
        },
        {
          "output_type": "display_data",
          "data": {
            "text/plain": [
              "<Figure size 1500x500 with 2 Axes>"
            ],
            "image/png": "[encoded data removed]"
          },
          "metadata": {}
        }
      ]
    },
    {
      "cell_type": "code",
      "source": [
        "# Predict test-set\n",
        "\n",
        "y_pred_test = model_sequential.predict(X_test)\n",
        "y_pred_test"
      ],
      "metadata": {
        "colab": {
          "base_uri": "https://localhost:8080/"
        },
        "id": "a4Ae2l_pHvMK",
        "outputId": "d2e2506a-a850-4037-a7d5-6e3e02bf2f67"
      },
      "execution_count": null,
      "outputs": [
        {
          "output_type": "stream",
          "name": "stdout",
          "text": [
            "5/5 [==============================] - 0s 2ms/step\n"
          ]
        },
        {
          "output_type": "execute_result",
          "data": {
            "text/plain": [
              "array([[0.12382917],\n",
              "       [0.12069283],\n",
              "       [0.12904468],\n",
              "       [0.9185033 ],\n",
              "       [0.5857138 ],\n",
              "       [0.97652173],\n",
              "       [0.5852254 ],\n",
              "       [0.28972214],\n",
              "       [0.6499943 ],\n",
              "       [0.98258317],\n",
              "       [0.33115435],\n",
              "       [0.05529011],\n",
              "       [0.21587929],\n",
              "       [0.08672829],\n",
              "       [0.11386399],\n",
              "       [0.9674488 ],\n",
              "       [0.3024563 ],\n",
              "       [0.58519477],\n",
              "       [0.13557073],\n",
              "       [0.3283293 ],\n",
              "       [0.10810123],\n",
              "       [0.31738755],\n",
              "       [0.5757433 ],\n",
              "       [0.1296778 ],\n",
              "       [0.09416477],\n",
              "       [0.2384284 ],\n",
              "       [0.26812002],\n",
              "       [0.12670822],\n",
              "       [0.3333228 ],\n",
              "       [0.59533805],\n",
              "       [0.13498361],\n",
              "       [0.60431683],\n",
              "       [0.40057555],\n",
              "       [0.5853029 ],\n",
              "       [0.14116003],\n",
              "       [0.15429783],\n",
              "       [0.41913015],\n",
              "       [0.5852254 ],\n",
              "       [0.9717703 ],\n",
              "       [0.09159248],\n",
              "       [0.4081709 ],\n",
              "       [0.13748337],\n",
              "       [0.09160424],\n",
              "       [0.09158134],\n",
              "       [0.41805407],\n",
              "       [0.25815004],\n",
              "       [0.13510591],\n",
              "       [0.11311719],\n",
              "       [0.10788389],\n",
              "       [0.38552132],\n",
              "       [0.4492976 ],\n",
              "       [0.9699868 ],\n",
              "       [0.0357709 ],\n",
              "       [0.7977897 ],\n",
              "       [0.04053011],\n",
              "       [0.9755123 ],\n",
              "       [0.11826091],\n",
              "       [0.9810254 ],\n",
              "       [0.88936794],\n",
              "       [0.6430958 ],\n",
              "       [0.12321834],\n",
              "       [0.9126829 ],\n",
              "       [0.84367096],\n",
              "       [0.3746681 ],\n",
              "       [0.09158134],\n",
              "       [0.93209034],\n",
              "       [0.45433393],\n",
              "       [0.08921549],\n",
              "       [0.22170177],\n",
              "       [0.97846895],\n",
              "       [0.87820923],\n",
              "       [0.8110943 ],\n",
              "       [0.44241232],\n",
              "       [0.94388753],\n",
              "       [0.11272249],\n",
              "       [0.10777164],\n",
              "       [0.5931168 ],\n",
              "       [0.9802069 ],\n",
              "       [0.88490224],\n",
              "       [0.35155958],\n",
              "       [0.14195865],\n",
              "       [0.8476189 ],\n",
              "       [0.93276256],\n",
              "       [0.09158044],\n",
              "       [0.254111  ],\n",
              "       [0.35898498],\n",
              "       [0.92699164],\n",
              "       [0.98206425],\n",
              "       [0.21282893],\n",
              "       [0.09154319],\n",
              "       [0.45429504],\n",
              "       [0.12194736],\n",
              "       [0.25363067],\n",
              "       [0.09157974],\n",
              "       [0.09159248],\n",
              "       [0.09158929],\n",
              "       [0.27159554],\n",
              "       [0.05345566],\n",
              "       [0.8842646 ],\n",
              "       [0.09519561],\n",
              "       [0.24244846],\n",
              "       [0.07509199],\n",
              "       [0.9098299 ],\n",
              "       [0.06881566],\n",
              "       [0.08553533],\n",
              "       [0.16915412],\n",
              "       [0.9102359 ],\n",
              "       [0.28601557],\n",
              "       [0.08683986],\n",
              "       [0.2780492 ],\n",
              "       [0.9351498 ],\n",
              "       [0.1258604 ],\n",
              "       [0.9331519 ],\n",
              "       [0.29829594],\n",
              "       [0.58723927],\n",
              "       [0.1303559 ],\n",
              "       [0.309063  ],\n",
              "       [0.11357478],\n",
              "       [0.87478113],\n",
              "       [0.22318974],\n",
              "       [0.5524663 ],\n",
              "       [0.98150706],\n",
              "       [0.9860151 ],\n",
              "       [0.90699047],\n",
              "       [0.10347705],\n",
              "       [0.3083067 ],\n",
              "       [0.97683924],\n",
              "       [0.5304262 ],\n",
              "       [0.6331617 ],\n",
              "       [0.12332734],\n",
              "       [0.58517545],\n",
              "       [0.12382917],\n",
              "       [0.11429769],\n",
              "       [0.70199084]], dtype=float32)"
            ]
          },
          "metadata": {},
          "execution_count": 25
        }
      ]
    },
    {
      "cell_type": "code",
      "source": [
        "# Model evaluation\n",
        "\n",
        "y_pred_cls = np.where(y_pred_test >= 0.5, 1, 0)\n",
        "print(classification_report(y_test, y_pred_cls))"
      ],
      "metadata": {
        "colab": {
          "base_uri": "https://localhost:8080/"
        },
        "id": "XOSg-fQrH87T",
        "outputId": "13375855-0ae7-4b4c-cf86-1ae750e0249d"
      },
      "execution_count": null,
      "outputs": [
        {
          "output_type": "stream",
          "name": "stdout",
          "text": [
            "              precision    recall  f1-score   support\n",
            "\n",
            "           0       0.81      0.87      0.84        78\n",
            "           1       0.80      0.71      0.75        56\n",
            "\n",
            "    accuracy                           0.81       134\n",
            "   macro avg       0.80      0.79      0.80       134\n",
            "weighted avg       0.81      0.81      0.80       134\n",
            "\n"
          ]
        }
      ]
    },
    {
      "cell_type": "markdown",
      "source": [
        "# A.4 - Functional API"
      ],
      "metadata": {
        "id": "AK063CpFJa1n"
      }
    },
    {
      "cell_type": "markdown",
      "source": [
        "## A.4.1 - Model Definition"
      ],
      "metadata": {
        "id": "D-s5E8QLJeVj"
      }
    },
    {
      "cell_type": "code",
      "source": [
        "# Clear session\n",
        "\n",
        "import tensorflow as tf\n",
        "seed = 20\n",
        "tf.keras.backend.clear_session()\n",
        "np.random.seed(seed)\n",
        "tf.random.set_seed(seed)"
      ],
      "metadata": {
        "id": "40e4_Ui1Jaii"
      },
      "execution_count": null,
      "outputs": []
    },
    {
      "cell_type": "code",
      "source": [
        "# Create functional model\n",
        "\n",
        "from tensorflow.keras.layers import Input, concatenate\n",
        "from tensorflow.keras import Model\n",
        "\n",
        "input_layer = Input(shape=(7,))\n",
        "hidden_layer_1 = Dense(16, activation='relu', kernel_initializer=tf.keras.initializers.HeNormal(seed)) (input_layer)\n",
        "hidden_layer_2 = Dense(8, activation='relu', kernel_initializer=tf.keras.initializers.HeNormal(seed)) (hidden_layer_1)\n",
        "concat_layer = concatenate([hidden_layer_2, input_layer])\n",
        "output_layer = Dense(1, activation='sigmoid', kernel_initializer=tf.keras.initializers.GlorotNormal(seed)) (concat_layer)\n",
        "\n",
        "model_functional = Model(inputs = input_layer, outputs = output_layer)\n",
        "\n",
        "# Compile\n",
        "model_functional.compile(loss='binary_crossentropy',\n",
        "                         optimizer='adam',\n",
        "                         metrics=['accuracy'])\n",
        "model_functional.summary()"
      ],
      "metadata": {
        "colab": {
          "base_uri": "https://localhost:8080/"
        },
        "collapsed": true,
        "id": "fwTa0SVyJjbk",
        "outputId": "af70cf23-d1c1-4317-d243-0a94501f83c8"
      },
      "execution_count": null,
      "outputs": [
        {
          "output_type": "stream",
          "name": "stdout",
          "text": [
            "Model: \"model\"\n",
            "__________________________________________________________________________________________________\n",
            " Layer (type)                Output Shape                 Param #   Connected to                  \n",
            "==================================================================================================\n",
            " input_1 (InputLayer)        [(None, 7)]                  0         []                            \n",
            "                                                                                                  \n",
            " dense (Dense)               (None, 16)                   128       ['input_1[0][0]']             \n",
            "                                                                                                  \n",
            " dense_1 (Dense)             (None, 8)                    136       ['dense[0][0]']               \n",
            "                                                                                                  \n",
            " concatenate (Concatenate)   (None, 15)                   0         ['dense_1[0][0]',             \n",
            "                                                                     'input_1[0][0]']             \n",
            "                                                                                                  \n",
            " dense_2 (Dense)             (None, 1)                    16        ['concatenate[0][0]']         \n",
            "                                                                                                  \n",
            "==================================================================================================\n",
            "Total params: 280 (1.09 KB)\n",
            "Trainable params: 280 (1.09 KB)\n",
            "Non-trainable params: 0 (0.00 Byte)\n",
            "__________________________________________________________________________________________________\n"
          ]
        }
      ]
    },
    {
      "cell_type": "code",
      "source": [
        "# Plot layers\n",
        "\n",
        "tf.keras.utils.plot_model(model_functional, show_shapes=True)"
      ],
      "metadata": {
        "colab": {
          "base_uri": "https://localhost:8080/",
          "height": 533
        },
        "collapsed": true,
        "id": "Hh95KE4zK5R0",
        "outputId": "513a5906-7220-4f97-8aff-ebe63e5a2081"
      },
      "execution_count": null,
      "outputs": [
        {
          "output_type": "execute_result",
          "data": {
            "image/png": "[encoded data removed]",
            "text/plain": [
              "<IPython.core.display.Image object>"
            ]
          },
          "metadata": {},
          "execution_count": 33
        }
      ]
    },
    {
      "cell_type": "markdown",
      "source": [
        "## A.4.2 - Model Training"
      ],
      "metadata": {
        "id": "v-PHWLqJLHiI"
      }
    },
    {
      "cell_type": "code",
      "source": [
        "# Train the model\n",
        "\n",
        "%%time\n",
        "history_functional = model_functional.fit(X_train,\n",
        "                                          y_train,\n",
        "                                          epochs=20,\n",
        "                                          validation_data=(X_val, y_val),\n",
        "                                          batch_size=10)"
      ],
      "metadata": {
        "colab": {
          "base_uri": "https://localhost:8080/"
        },
        "collapsed": true,
        "id": "xdPv2UsjLK0d",
        "outputId": "bdeb4e37-ccc7-4322-80b4-5a959c2033a5"
      },
      "execution_count": null,
      "outputs": [
        {
          "output_type": "stream",
          "name": "stdout",
          "text": [
            "Epoch 1/20\n",
            "65/65 [==============================] - 4s 11ms/step - loss: 0.9081 - accuracy: 0.4666 - val_loss: 0.8612 - val_accuracy: 0.5000\n",
            "Epoch 2/20\n",
            "65/65 [==============================] - 0s 8ms/step - loss: 0.7455 - accuracy: 0.6159 - val_loss: 0.7669 - val_accuracy: 0.5702\n",
            "Epoch 3/20\n",
            "65/65 [==============================] - 0s 7ms/step - loss: 0.6704 - accuracy: 0.6672 - val_loss: 0.7069 - val_accuracy: 0.6140\n",
            "Epoch 4/20\n",
            "65/65 [==============================] - 1s 8ms/step - loss: 0.6212 - accuracy: 0.6983 - val_loss: 0.6495 - val_accuracy: 0.6579\n",
            "Epoch 5/20\n",
            "65/65 [==============================] - 1s 8ms/step - loss: 0.5816 - accuracy: 0.7434 - val_loss: 0.5919 - val_accuracy: 0.7281\n",
            "Epoch 6/20\n",
            "65/65 [==============================] - 1s 9ms/step - loss: 0.5431 - accuracy: 0.7652 - val_loss: 0.5358 - val_accuracy: 0.7544\n",
            "Epoch 7/20\n",
            "65/65 [==============================] - 1s 8ms/step - loss: 0.5072 - accuracy: 0.7714 - val_loss: 0.4839 - val_accuracy: 0.7719\n",
            "Epoch 8/20\n",
            "65/65 [==============================] - 0s 7ms/step - loss: 0.4764 - accuracy: 0.7869 - val_loss: 0.4478 - val_accuracy: 0.8246\n",
            "Epoch 9/20\n",
            "65/65 [==============================] - 0s 5ms/step - loss: 0.4557 - accuracy: 0.8025 - val_loss: 0.4279 - val_accuracy: 0.8421\n",
            "Epoch 10/20\n",
            "65/65 [==============================] - 0s 6ms/step - loss: 0.4421 - accuracy: 0.8149 - val_loss: 0.4174 - val_accuracy: 0.8421\n",
            "Epoch 11/20\n",
            "65/65 [==============================] - 0s 5ms/step - loss: 0.4354 - accuracy: 0.8149 - val_loss: 0.4128 - val_accuracy: 0.8509\n",
            "Epoch 12/20\n",
            "65/65 [==============================] - 0s 5ms/step - loss: 0.4307 - accuracy: 0.8149 - val_loss: 0.4106 - val_accuracy: 0.8509\n",
            "Epoch 13/20\n",
            "65/65 [==============================] - 0s 5ms/step - loss: 0.4260 - accuracy: 0.8196 - val_loss: 0.4058 - val_accuracy: 0.8684\n",
            "Epoch 14/20\n",
            "65/65 [==============================] - 0s 4ms/step - loss: 0.4226 - accuracy: 0.8196 - val_loss: 0.4037 - val_accuracy: 0.8684\n",
            "Epoch 15/20\n",
            "65/65 [==============================] - 0s 4ms/step - loss: 0.4191 - accuracy: 0.8212 - val_loss: 0.4019 - val_accuracy: 0.8684\n",
            "Epoch 16/20\n",
            "65/65 [==============================] - 0s 5ms/step - loss: 0.4172 - accuracy: 0.8196 - val_loss: 0.4019 - val_accuracy: 0.8684\n",
            "Epoch 17/20\n",
            "65/65 [==============================] - 0s 5ms/step - loss: 0.4160 - accuracy: 0.8180 - val_loss: 0.3997 - val_accuracy: 0.8596\n",
            "Epoch 18/20\n",
            "65/65 [==============================] - 0s 4ms/step - loss: 0.4133 - accuracy: 0.8180 - val_loss: 0.4006 - val_accuracy: 0.8684\n",
            "Epoch 19/20\n",
            "65/65 [==============================] - 0s 6ms/step - loss: 0.4114 - accuracy: 0.8227 - val_loss: 0.3995 - val_accuracy: 0.8596\n",
            "Epoch 20/20\n",
            "65/65 [==============================] - 0s 6ms/step - loss: 0.4098 - accuracy: 0.8196 - val_loss: 0.3980 - val_accuracy: 0.8596\n",
            "CPU times: user 9.89 s, sys: 658 ms, total: 10.5 s\n",
            "Wall time: 12.2 s\n"
          ]
        }
      ]
    },
    {
      "cell_type": "markdown",
      "source": [
        "## A.4.2 - Model Evaluation"
      ],
      "metadata": {
        "id": "R8-YyRlJLdSX"
      }
    },
    {
      "cell_type": "code",
      "source": [
        "# Plot training result\n",
        "\n",
        "history_functional_df = pd.DataFrame(history_functional.history)\n",
        "\n",
        "plt.figure(figsize=(15,5))\n",
        "plt.subplot(1, 2, 1)\n",
        "sns.lineplot(data=history_functional_df[['loss', 'val_loss']])\n",
        "plt.grid()\n",
        "plt.title('Grafik loss vs val-loss')\n",
        "\n",
        "plt.subplot(1, 2, 2)\n",
        "sns.lineplot(data=history_functional_df[['accuracy', 'val_accuracy']])\n",
        "plt.grid()\n",
        "plt.title('Grafik Acc vs Val-Acc')"
      ],
      "metadata": {
        "colab": {
          "base_uri": "https://localhost:8080/",
          "height": 486
        },
        "collapsed": true,
        "id": "9qc_u7lwLhPB",
        "outputId": "63fe3c07-b09d-4736-bc46-3de61b13504a"
      },
      "execution_count": null,
      "outputs": [
        {
          "output_type": "execute_result",
          "data": {
            "text/plain": [
              "Text(0.5, 1.0, 'Grafik Acc vs Val-Acc')"
            ]
          },
          "metadata": {},
          "execution_count": 35
        },
        {
          "output_type": "display_data",
          "data": {
            "text/plain": [
              "<Figure size 1500x500 with 2 Axes>"
            ],
            "image/png": "[encoded data removed]"
          },
          "metadata": {}
        }
      ]
    },
    {
      "cell_type": "code",
      "source": [
        "# Model Evaluation\n",
        "\n",
        "y_pred_func = model_functional.predict(X_test)\n",
        "y_pred_cls = np.where(y_pred_func >= 0.5, 1, 0)\n",
        "\n",
        "print(classification_report(y_test, y_pred_cls))"
      ],
      "metadata": {
        "colab": {
          "base_uri": "https://localhost:8080/"
        },
        "id": "mQW5QRxDLsXm",
        "outputId": "19982249-e979-433a-8c94-9ee2b0f0ae79"
      },
      "execution_count": null,
      "outputs": [
        {
          "output_type": "stream",
          "name": "stdout",
          "text": [
            "5/5 [==============================] - 0s 5ms/step\n",
            "              precision    recall  f1-score   support\n",
            "\n",
            "           0       0.82      0.88      0.85        78\n",
            "           1       0.82      0.73      0.77        56\n",
            "\n",
            "    accuracy                           0.82       134\n",
            "   macro avg       0.82      0.81      0.81       134\n",
            "weighted avg       0.82      0.82      0.82       134\n",
            "\n"
          ]
        }
      ]
    },
    {
      "cell_type": "markdown",
      "source": [
        "# A.5 - Model Saving"
      ],
      "metadata": {
        "id": "yUY7ZQPiMR0X"
      }
    },
    {
      "cell_type": "code",
      "source": [
        "# Save Pipeline\n",
        "\n",
        "import pickle\n",
        "\n",
        "with open('titanic_pipeline.pkl', 'wb') as file_1:\n",
        "  pickle.dump(final_pipeline, file_1)"
      ],
      "metadata": {
        "id": "iIJMG4YhMU62"
      },
      "execution_count": null,
      "outputs": []
    },
    {
      "cell_type": "code",
      "source": [
        "# Model summary\n",
        "\n",
        "model_sequential.summary()"
      ],
      "metadata": {
        "colab": {
          "base_uri": "https://localhost:8080/"
        },
        "id": "IrXkmd47MnEV",
        "outputId": "8e826b0c-d553-4134-d146-398f890cfa3b"
      },
      "execution_count": null,
      "outputs": [
        {
          "output_type": "stream",
          "name": "stdout",
          "text": [
            "Model: \"sequential\"\n",
            "_________________________________________________________________\n",
            " Layer (type)                Output Shape              Param #   \n",
            "=================================================================\n",
            " dense (Dense)               (None, 16)                128       \n",
            "                                                                 \n",
            " dense_1 (Dense)             (None, 8)                 136       \n",
            "                                                                 \n",
            " dense_2 (Dense)             (None, 1)                 9         \n",
            "                                                                 \n",
            "=================================================================\n",
            "Total params: 273 (1.07 KB)\n",
            "Trainable params: 273 (1.07 KB)\n",
            "Non-trainable params: 0 (0.00 Byte)\n",
            "_________________________________________________________________\n"
          ]
        }
      ]
    },
    {
      "cell_type": "code",
      "source": [
        "# Freeze model\n",
        "\n",
        "model_sequential.trainable = False\n",
        "model_sequential.summary()"
      ],
      "metadata": {
        "colab": {
          "base_uri": "https://localhost:8080/"
        },
        "id": "XIMyZcWVMtUl",
        "outputId": "4bedf56d-6b6a-43ec-d9e4-293e1310b6dc"
      },
      "execution_count": null,
      "outputs": [
        {
          "output_type": "stream",
          "name": "stdout",
          "text": [
            "Model: \"sequential\"\n",
            "_________________________________________________________________\n",
            " Layer (type)                Output Shape              Param #   \n",
            "=================================================================\n",
            " dense (Dense)               (None, 16)                128       \n",
            "                                                                 \n",
            " dense_1 (Dense)             (None, 8)                 136       \n",
            "                                                                 \n",
            " dense_2 (Dense)             (None, 1)                 9         \n",
            "                                                                 \n",
            "=================================================================\n",
            "Total params: 273 (1.07 KB)\n",
            "Trainable params: 0 (0.00 Byte)\n",
            "Non-trainable params: 273 (1.07 KB)\n",
            "_________________________________________________________________\n"
          ]
        }
      ]
    },
    {
      "cell_type": "code",
      "source": [
        "# Save ANN model\n",
        "\n",
        "model_sequential.save('titanic_model.keras')"
      ],
      "metadata": {
        "colab": {
          "base_uri": "https://localhost:8080/"
        },
        "id": "0D3XBV6HM2yP",
        "outputId": "25263d4f-be47-4baf-98f2-b4c6936c1fc1"
      },
      "execution_count": null,
      "outputs": [
        {
          "output_type": "stream",
          "name": "stderr",
          "text": [
            "/usr/local/lib/python3.10/dist-packages/keras/src/engine/training.py:3103: UserWarning: You are saving your model as an HDF5 file via `model.save()`. This file format is considered legacy. We recommend using instead the native Keras format, e.g. `model.save('my_model.keras')`.\n",
            "  saving_api.save_model(\n"
          ]
        }
      ]
    }
  ]
}